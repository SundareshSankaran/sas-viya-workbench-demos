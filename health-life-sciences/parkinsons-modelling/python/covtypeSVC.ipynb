{
 "cells": [
  {
   "cell_type": "markdown",
   "id": "39e16cbb-4184-493d-a27f-87596c04a002",
   "metadata": {},
   "source": [
    "# Covtype – (SAS Viya ML vs SciKit-Learn)\n",
    "-------\n",
    "This notebook highlights the performance of the SAS Viya ML Linear Support Vector Classification algorithm available on Workbench using scikit-learn as a comparison.  \n"
   ]
  },
  {
   "cell_type": "code",
   "execution_count": 1,
   "id": "5786250f-4785-4bda-bee0-4e7e0e156dc8",
   "metadata": {
    "jupyter": {
     "source_hidden": true
    }
   },
   "outputs": [],
   "source": [
    "#Import required libraries and packages\n",
    "import time\n",
    "import pandas as pd \n",
    "import numpy  as np\n",
    "import seaborn as sns\n",
    "from sasviya.ml.svm import SVC\n",
    "from sklearn.svm import LinearSVC\n",
    "from sklearn.preprocessing import StandardScaler\n",
    "from sklearn.metrics import confusion_matrix, classification_report, accuracy_score, precision_score, recall_score, f1_score\n",
    "import matplotlib.pyplot as plt"
   ]
  },
  {
   "cell_type": "markdown",
   "id": "aa71a888-3174-4260-a113-74fba11f81fb",
   "metadata": {},
   "source": [
    "#### Data Preparation"
   ]
  },
  {
   "cell_type": "code",
   "execution_count": 2,
   "id": "ca31fb81-7681-475d-93a3-78f661c63337",
   "metadata": {},
   "outputs": [],
   "source": [
    "dataset = 'covtype'\n",
    "train = pd.read_csv(f'{dataset}_train.csv', header=None)\n",
    "test  = pd.read_csv(f'{dataset}_test.csv',  header=None)\n",
    "nObs, nCol = train.shape\n",
    "nFtr = nCol - 1\n",
    "\n",
    "scaler = StandardScaler()\n",
    "features = list(range(nFtr))\n",
    "X_train = scaler.fit_transform(train[features])\n",
    "X_test  = scaler.transform(test[features])\n",
    "\n",
    "target  = nFtr \n",
    "y_train = train[target]\n",
    "y_test  = test[target]"
   ]
  },
  {
   "cell_type": "code",
   "execution_count": 3,
   "id": "a13492b1-028f-4135-8dfe-ffb62a21b809",
   "metadata": {
    "jupyter": {
     "source_hidden": true
    },
    "scrolled": true
   },
   "outputs": [
    {
     "data": {
      "text/html": [
       "<div>\n",
       "<style scoped>\n",
       "    .dataframe tbody tr th:only-of-type {\n",
       "        vertical-align: middle;\n",
       "    }\n",
       "\n",
       "    .dataframe tbody tr th {\n",
       "        vertical-align: top;\n",
       "    }\n",
       "\n",
       "    .dataframe thead th {\n",
       "        text-align: right;\n",
       "    }\n",
       "</style>\n",
       "<table border=\"1\" class=\"dataframe\">\n",
       "  <thead>\n",
       "    <tr style=\"text-align: right;\">\n",
       "      <th></th>\n",
       "      <th>0</th>\n",
       "      <th>1</th>\n",
       "      <th>2</th>\n",
       "      <th>3</th>\n",
       "      <th>4</th>\n",
       "      <th>5</th>\n",
       "      <th>6</th>\n",
       "      <th>7</th>\n",
       "      <th>8</th>\n",
       "      <th>9</th>\n",
       "      <th>...</th>\n",
       "      <th>45</th>\n",
       "      <th>46</th>\n",
       "      <th>47</th>\n",
       "      <th>48</th>\n",
       "      <th>49</th>\n",
       "      <th>50</th>\n",
       "      <th>51</th>\n",
       "      <th>52</th>\n",
       "      <th>53</th>\n",
       "      <th>54</th>\n",
       "    </tr>\n",
       "  </thead>\n",
       "  <tbody>\n",
       "    <tr>\n",
       "      <th>0</th>\n",
       "      <td>0.631816</td>\n",
       "      <td>0.080556</td>\n",
       "      <td>0.257576</td>\n",
       "      <td>0.137437</td>\n",
       "      <td>0.280362</td>\n",
       "      <td>0.207672</td>\n",
       "      <td>0.830709</td>\n",
       "      <td>0.787402</td>\n",
       "      <td>0.472441</td>\n",
       "      <td>0.029555</td>\n",
       "      <td>...</td>\n",
       "      <td>0</td>\n",
       "      <td>0</td>\n",
       "      <td>0</td>\n",
       "      <td>0</td>\n",
       "      <td>0</td>\n",
       "      <td>0</td>\n",
       "      <td>0</td>\n",
       "      <td>0</td>\n",
       "      <td>0</td>\n",
       "      <td>-1</td>\n",
       "    </tr>\n",
       "    <tr>\n",
       "      <th>1</th>\n",
       "      <td>0.519760</td>\n",
       "      <td>0.530556</td>\n",
       "      <td>0.136364</td>\n",
       "      <td>0.322119</td>\n",
       "      <td>0.414729</td>\n",
       "      <td>0.312070</td>\n",
       "      <td>0.866142</td>\n",
       "      <td>0.972441</td>\n",
       "      <td>0.633858</td>\n",
       "      <td>0.088666</td>\n",
       "      <td>...</td>\n",
       "      <td>0</td>\n",
       "      <td>0</td>\n",
       "      <td>0</td>\n",
       "      <td>0</td>\n",
       "      <td>0</td>\n",
       "      <td>0</td>\n",
       "      <td>0</td>\n",
       "      <td>0</td>\n",
       "      <td>0</td>\n",
       "      <td>-1</td>\n",
       "    </tr>\n",
       "    <tr>\n",
       "      <th>2</th>\n",
       "      <td>0.402201</td>\n",
       "      <td>0.205556</td>\n",
       "      <td>0.060606</td>\n",
       "      <td>0.171797</td>\n",
       "      <td>0.244186</td>\n",
       "      <td>0.203597</td>\n",
       "      <td>0.885827</td>\n",
       "      <td>0.909449</td>\n",
       "      <td>0.559055</td>\n",
       "      <td>0.851527</td>\n",
       "      <td>...</td>\n",
       "      <td>0</td>\n",
       "      <td>0</td>\n",
       "      <td>0</td>\n",
       "      <td>0</td>\n",
       "      <td>0</td>\n",
       "      <td>0</td>\n",
       "      <td>0</td>\n",
       "      <td>0</td>\n",
       "      <td>0</td>\n",
       "      <td>1</td>\n",
       "    </tr>\n",
       "    <tr>\n",
       "      <th>3</th>\n",
       "      <td>0.449725</td>\n",
       "      <td>0.130556</td>\n",
       "      <td>0.272727</td>\n",
       "      <td>0.077309</td>\n",
       "      <td>0.255814</td>\n",
       "      <td>0.181678</td>\n",
       "      <td>0.877953</td>\n",
       "      <td>0.783465</td>\n",
       "      <td>0.409449</td>\n",
       "      <td>0.367210</td>\n",
       "      <td>...</td>\n",
       "      <td>0</td>\n",
       "      <td>0</td>\n",
       "      <td>0</td>\n",
       "      <td>0</td>\n",
       "      <td>0</td>\n",
       "      <td>0</td>\n",
       "      <td>0</td>\n",
       "      <td>0</td>\n",
       "      <td>0</td>\n",
       "      <td>1</td>\n",
       "    </tr>\n",
       "    <tr>\n",
       "      <th>4</th>\n",
       "      <td>0.622811</td>\n",
       "      <td>0.997222</td>\n",
       "      <td>0.227273</td>\n",
       "      <td>0.173228</td>\n",
       "      <td>0.304910</td>\n",
       "      <td>0.512997</td>\n",
       "      <td>0.775591</td>\n",
       "      <td>0.834646</td>\n",
       "      <td>0.594488</td>\n",
       "      <td>0.291231</td>\n",
       "      <td>...</td>\n",
       "      <td>0</td>\n",
       "      <td>0</td>\n",
       "      <td>0</td>\n",
       "      <td>0</td>\n",
       "      <td>0</td>\n",
       "      <td>0</td>\n",
       "      <td>0</td>\n",
       "      <td>0</td>\n",
       "      <td>0</td>\n",
       "      <td>-1</td>\n",
       "    </tr>\n",
       "    <tr>\n",
       "      <th>...</th>\n",
       "      <td>...</td>\n",
       "      <td>...</td>\n",
       "      <td>...</td>\n",
       "      <td>...</td>\n",
       "      <td>...</td>\n",
       "      <td>...</td>\n",
       "      <td>...</td>\n",
       "      <td>...</td>\n",
       "      <td>...</td>\n",
       "      <td>...</td>\n",
       "      <td>...</td>\n",
       "      <td>...</td>\n",
       "      <td>...</td>\n",
       "      <td>...</td>\n",
       "      <td>...</td>\n",
       "      <td>...</td>\n",
       "      <td>...</td>\n",
       "      <td>...</td>\n",
       "      <td>...</td>\n",
       "      <td>...</td>\n",
       "      <td>...</td>\n",
       "    </tr>\n",
       "    <tr>\n",
       "      <th>464805</th>\n",
       "      <td>0.422211</td>\n",
       "      <td>0.594444</td>\n",
       "      <td>0.257576</td>\n",
       "      <td>0.042949</td>\n",
       "      <td>0.224806</td>\n",
       "      <td>0.235633</td>\n",
       "      <td>0.795276</td>\n",
       "      <td>1.000000</td>\n",
       "      <td>0.720472</td>\n",
       "      <td>0.169803</td>\n",
       "      <td>...</td>\n",
       "      <td>0</td>\n",
       "      <td>0</td>\n",
       "      <td>0</td>\n",
       "      <td>0</td>\n",
       "      <td>0</td>\n",
       "      <td>0</td>\n",
       "      <td>0</td>\n",
       "      <td>0</td>\n",
       "      <td>0</td>\n",
       "      <td>1</td>\n",
       "    </tr>\n",
       "    <tr>\n",
       "      <th>464806</th>\n",
       "      <td>0.657329</td>\n",
       "      <td>0.416667</td>\n",
       "      <td>0.075758</td>\n",
       "      <td>0.042949</td>\n",
       "      <td>0.224806</td>\n",
       "      <td>0.451033</td>\n",
       "      <td>0.893701</td>\n",
       "      <td>0.944882</td>\n",
       "      <td>0.578740</td>\n",
       "      <td>0.458525</td>\n",
       "      <td>...</td>\n",
       "      <td>0</td>\n",
       "      <td>0</td>\n",
       "      <td>0</td>\n",
       "      <td>0</td>\n",
       "      <td>0</td>\n",
       "      <td>0</td>\n",
       "      <td>0</td>\n",
       "      <td>0</td>\n",
       "      <td>0</td>\n",
       "      <td>-1</td>\n",
       "    </tr>\n",
       "    <tr>\n",
       "      <th>464807</th>\n",
       "      <td>0.428714</td>\n",
       "      <td>0.219444</td>\n",
       "      <td>0.227273</td>\n",
       "      <td>0.021475</td>\n",
       "      <td>0.241602</td>\n",
       "      <td>0.197415</td>\n",
       "      <td>0.937008</td>\n",
       "      <td>0.834646</td>\n",
       "      <td>0.397638</td>\n",
       "      <td>0.319810</td>\n",
       "      <td>...</td>\n",
       "      <td>0</td>\n",
       "      <td>0</td>\n",
       "      <td>0</td>\n",
       "      <td>0</td>\n",
       "      <td>0</td>\n",
       "      <td>0</td>\n",
       "      <td>0</td>\n",
       "      <td>0</td>\n",
       "      <td>0</td>\n",
       "      <td>1</td>\n",
       "    </tr>\n",
       "    <tr>\n",
       "      <th>464808</th>\n",
       "      <td>0.682341</td>\n",
       "      <td>0.016667</td>\n",
       "      <td>0.227273</td>\n",
       "      <td>0.042949</td>\n",
       "      <td>0.246770</td>\n",
       "      <td>0.265561</td>\n",
       "      <td>0.791339</td>\n",
       "      <td>0.826772</td>\n",
       "      <td>0.570866</td>\n",
       "      <td>0.213300</td>\n",
       "      <td>...</td>\n",
       "      <td>0</td>\n",
       "      <td>0</td>\n",
       "      <td>0</td>\n",
       "      <td>0</td>\n",
       "      <td>0</td>\n",
       "      <td>0</td>\n",
       "      <td>0</td>\n",
       "      <td>0</td>\n",
       "      <td>0</td>\n",
       "      <td>-1</td>\n",
       "    </tr>\n",
       "    <tr>\n",
       "      <th>464809</th>\n",
       "      <td>0.435718</td>\n",
       "      <td>0.197222</td>\n",
       "      <td>0.212121</td>\n",
       "      <td>0.021475</td>\n",
       "      <td>0.231266</td>\n",
       "      <td>0.277224</td>\n",
       "      <td>0.925197</td>\n",
       "      <td>0.830709</td>\n",
       "      <td>0.409449</td>\n",
       "      <td>0.041405</td>\n",
       "      <td>...</td>\n",
       "      <td>0</td>\n",
       "      <td>1</td>\n",
       "      <td>0</td>\n",
       "      <td>0</td>\n",
       "      <td>0</td>\n",
       "      <td>0</td>\n",
       "      <td>0</td>\n",
       "      <td>0</td>\n",
       "      <td>0</td>\n",
       "      <td>-1</td>\n",
       "    </tr>\n",
       "  </tbody>\n",
       "</table>\n",
       "<p>464810 rows × 55 columns</p>\n",
       "</div>"
      ],
      "text/plain": [
       "              0         1         2         3         4         5         6   \\\n",
       "0       0.631816  0.080556  0.257576  0.137437  0.280362  0.207672  0.830709   \n",
       "1       0.519760  0.530556  0.136364  0.322119  0.414729  0.312070  0.866142   \n",
       "2       0.402201  0.205556  0.060606  0.171797  0.244186  0.203597  0.885827   \n",
       "3       0.449725  0.130556  0.272727  0.077309  0.255814  0.181678  0.877953   \n",
       "4       0.622811  0.997222  0.227273  0.173228  0.304910  0.512997  0.775591   \n",
       "...          ...       ...       ...       ...       ...       ...       ...   \n",
       "464805  0.422211  0.594444  0.257576  0.042949  0.224806  0.235633  0.795276   \n",
       "464806  0.657329  0.416667  0.075758  0.042949  0.224806  0.451033  0.893701   \n",
       "464807  0.428714  0.219444  0.227273  0.021475  0.241602  0.197415  0.937008   \n",
       "464808  0.682341  0.016667  0.227273  0.042949  0.246770  0.265561  0.791339   \n",
       "464809  0.435718  0.197222  0.212121  0.021475  0.231266  0.277224  0.925197   \n",
       "\n",
       "              7         8         9   ...  45  46  47  48  49  50  51  52  53  \\\n",
       "0       0.787402  0.472441  0.029555  ...   0   0   0   0   0   0   0   0   0   \n",
       "1       0.972441  0.633858  0.088666  ...   0   0   0   0   0   0   0   0   0   \n",
       "2       0.909449  0.559055  0.851527  ...   0   0   0   0   0   0   0   0   0   \n",
       "3       0.783465  0.409449  0.367210  ...   0   0   0   0   0   0   0   0   0   \n",
       "4       0.834646  0.594488  0.291231  ...   0   0   0   0   0   0   0   0   0   \n",
       "...          ...       ...       ...  ...  ..  ..  ..  ..  ..  ..  ..  ..  ..   \n",
       "464805  1.000000  0.720472  0.169803  ...   0   0   0   0   0   0   0   0   0   \n",
       "464806  0.944882  0.578740  0.458525  ...   0   0   0   0   0   0   0   0   0   \n",
       "464807  0.834646  0.397638  0.319810  ...   0   0   0   0   0   0   0   0   0   \n",
       "464808  0.826772  0.570866  0.213300  ...   0   0   0   0   0   0   0   0   0   \n",
       "464809  0.830709  0.409449  0.041405  ...   0   1   0   0   0   0   0   0   0   \n",
       "\n",
       "        54  \n",
       "0       -1  \n",
       "1       -1  \n",
       "2        1  \n",
       "3        1  \n",
       "4       -1  \n",
       "...     ..  \n",
       "464805   1  \n",
       "464806  -1  \n",
       "464807   1  \n",
       "464808  -1  \n",
       "464809  -1  \n",
       "\n",
       "[464810 rows x 55 columns]"
      ]
     },
     "execution_count": 3,
     "metadata": {},
     "output_type": "execute_result"
    }
   ],
   "source": [
    "#Explore data\n",
    "train"
   ]
  },
  {
   "cell_type": "code",
   "execution_count": 4,
   "id": "da601765-b654-4752-bfeb-367d3e7377dc",
   "metadata": {
    "jupyter": {
     "source_hidden": true
    }
   },
   "outputs": [
    {
     "data": {
      "text/plain": [
       "<Axes: >"
      ]
     },
     "execution_count": 4,
     "metadata": {},
     "output_type": "execute_result"
    },
    {
     "data": {
      "image/png": "[encoded data removed]",
      "text/plain": [
       "<Figure size 700x500 with 2 Axes>"
      ]
     },
     "metadata": {},
     "output_type": "display_data"
    }
   ],
   "source": [
    "# Display heatmap\n",
    "plt.figure(figsize=(7,5))\n",
    "sns.heatmap(train.corr(), fmt='.2g', annot=True)"
   ]
  },
  {
   "cell_type": "markdown",
   "id": "08e41321-952d-44b5-96b8-d0058c3dca56",
   "metadata": {},
   "source": [
    "##  Model Training  \n",
    "\n",
    "<body>Linear Support Vector Classification (Linear SVC) is a supervised machine learning algorithm used for binary classification tasks.</body>\n",
    "<hr width=\"100%\" size=\"2\">\n",
    "\n",
    "\n",
    "#### **SAS Viya** – Linear Support Vector Classification (Linear SVC)\n",
    "\n",
    "\n"
   ]
  },
  {
   "cell_type": "code",
   "execution_count": 5,
   "id": "36f185c0-f4b3-4029-894f-9f466388c79a",
   "metadata": {},
   "outputs": [
    {
     "name": "stdout",
     "output_type": "stream",
     "text": [
      "11.8 s ± 0 ns per loop (mean ± std. dev. of 1 run, 1 loop each)\n"
     ]
    }
   ],
   "source": [
    "def SASViyaML_Train():\n",
    "    sas_model = SVC(kernel='linear', max_iter=1000, tol=0.0001, random_state=1)\n",
    "    sas_model.fit(X_train, y_train)\n",
    "    return (sas_model)\n",
    "sas_model = SASViyaML_Train()\n",
    "SASViyaML_Train_Time = %timeit -r 1 -o SASViyaML_Train()"
   ]
  },
  {
   "cell_type": "code",
   "execution_count": 6,
   "id": "f9fa6fc0-8ca6-4513-88ce-e00438a6d155",
   "metadata": {},
   "outputs": [
    {
     "name": "stdout",
     "output_type": "stream",
     "text": [
      "Accuracy Score : 76.32 %\n",
      "274 ms ± 0 ns per loop (mean ± std. dev. of 1 run, 1 loop each)\n"
     ]
    }
   ],
   "source": [
    "def SASViyaML_Test():\n",
    "    predictions = sas_model.predict(X_test)\n",
    "    return (predictions)\n",
    "predictions = SASViyaML_Test()\n",
    "print(\"Accuracy Score :\", round(accuracy_score(y_test, predictions)*100 ,2), \"%\")\n",
    "SASViyaML_Test_Time = %timeit -r 1 -o SASViyaML_Test()"
   ]
  },
  {
   "cell_type": "code",
   "execution_count": 7,
   "id": "4e312209-192e-458e-9f21-7ba869ccf093",
   "metadata": {
    "jupyter": {
     "source_hidden": true
    }
   },
   "outputs": [
    {
     "data": {
      "text/plain": [
       "Text(0.5, 1.0, 'Accuracy Score for SAS Viya ML: 76.32')"
      ]
     },
     "execution_count": 7,
     "metadata": {},
     "output_type": "execute_result"
    },
    {
     "data": {
      "image/png": "[encoded data removed]",
      "text/plain": [
       "<Figure size 500x500 with 2 Axes>"
      ]
     },
     "metadata": {},
     "output_type": "display_data"
    }
   ],
   "source": [
    "#Visual Confusion Matrix\n",
    "from sklearn.metrics import confusion_matrix\n",
    "cm = confusion_matrix(y_test, predictions)\n",
    "plt.figure(figsize=(5,5))\n",
    "sns.heatmap(data=cm,linewidths=.5, annot=True,  cmap = 'Blues')\n",
    "plt.ylabel('Actual label')\n",
    "plt.xlabel('Predicted label')\n",
    "all_sample_title = 'Accuracy Score for SAS Viya ML: {0}'.format(round(accuracy_score(y_test, predictions)*100 ,2))\n",
    "plt.title(all_sample_title, size = 15)"
   ]
  },
  {
   "cell_type": "code",
   "execution_count": 8,
   "id": "5d6bad2d-a5bf-462b-ad62-6f209a1816d8",
   "metadata": {
    "scrolled": true
   },
   "outputs": [
    {
     "name": "stdout",
     "output_type": "stream",
     "text": [
      "SAS WB Confusion Matrix:\n",
      "[[44536 15171]\n",
      " [12343 44152]]\n",
      "SAS WB Precision:  [0.78299548 0.74426445]\n",
      "SAS WB Recall:     [0.74590919 0.78152049]\n",
      "SAS WB F1 score:   [0.76400254 0.76243762]\n",
      "-------------------------------- \n",
      "\n",
      "SAS WB Classification Report:\n",
      "               precision    recall  f1-score   support\n",
      "\n",
      "          -1       0.78      0.75      0.76     59707\n",
      "           1       0.74      0.78      0.76     56495\n",
      "\n",
      "    accuracy                           0.76    116202\n",
      "   macro avg       0.76      0.76      0.76    116202\n",
      "weighted avg       0.76      0.76      0.76    116202\n",
      "\n"
     ]
    }
   ],
   "source": [
    "#Print Confusion Matrix\n",
    "print(\"SAS WB Confusion Matrix:\")\n",
    "print(confusion_matrix(y_test, predictions))\n",
    "\n",
    "print(\"SAS WB Precision: \", precision_score(y_test, predictions, average=None))\n",
    "print(\"SAS WB Recall:    \", recall_score(y_test, predictions, average=None))\n",
    "print(\"SAS WB F1 score:  \", f1_score(y_test, predictions, average=None))\n",
    "print(\"-------------------------------- \")\n",
    "\n",
    "WB_Accu = round(accuracy_score(y_test, predictions)*100 ,2)\n",
    "WB_Precision = precision_score(y_test, predictions, average=None)\n",
    "WB_Recall = recall_score(y_test, predictions, average=None)\n",
    "WB_F1 = f1_score(y_test, predictions, average=None)\n",
    "\n",
    "print(\"\\nSAS WB Classification Report:\\n\",classification_report(y_test, predictions))"
   ]
  },
  {
   "cell_type": "markdown",
   "id": "1c3aad99-afe7-483a-9c66-9f2d4afdfe34",
   "metadata": {},
   "source": [
    "<br><br>\n",
    "\n",
    "#### **SciKit-Learn** – Linear Support Vector Classification (Linear SVC)"
   ]
  },
  {
   "cell_type": "code",
   "execution_count": 9,
   "id": "2bcf52b4-a905-4606-a4ac-c396d0ad0c8d",
   "metadata": {},
   "outputs": [
    {
     "name": "stdout",
     "output_type": "stream",
     "text": [
      "12.6 s ± 0 ns per loop (mean ± std. dev. of 1 run, 1 loop each)\n"
     ]
    }
   ],
   "source": [
    "def SKLearn_Train():\n",
    "    skl_model = LinearSVC(max_iter=1000, tol=0.0001, random_state=1)\n",
    "    skl_model.fit(X_train, y_train)\n",
    "    return (skl_model)\n",
    "skl_model = SKLearn_Train()\n",
    "SKLearn_Train_Time = %timeit -r 1 -o SKLearn_Train()"
   ]
  },
  {
   "cell_type": "code",
   "execution_count": 10,
   "id": "c8e0a57e-dcaa-48cc-8eaa-c3f9b703d0e2",
   "metadata": {},
   "outputs": [
    {
     "name": "stdout",
     "output_type": "stream",
     "text": [
      "Accuracy Score : 75.64 %\n",
      "50.7 ms ± 0 ns per loop (mean ± std. dev. of 1 run, 10 loops each)\n"
     ]
    }
   ],
   "source": [
    "def SKLearn_Test():\n",
    "    predictions = skl_model.predict(X_test)\n",
    "    return (predictions)\n",
    "predictions = SKLearn_Test()\n",
    "print(\"Accuracy Score :\", round(accuracy_score(y_test, predictions)*100 ,2), \"%\")\n",
    "\n",
    "SKLearn_Test_Time = %timeit -r 1 -o SKLearn_Test()"
   ]
  },
  {
   "cell_type": "code",
   "execution_count": 11,
   "id": "569dd9d5-7cb7-4bbc-afba-04560433b622",
   "metadata": {
    "jupyter": {
     "source_hidden": true
    }
   },
   "outputs": [
    {
     "data": {
      "text/plain": [
       "Text(0.5, 1.0, 'Accuracy Score for SciKit-Learn: 75.64')"
      ]
     },
     "execution_count": 11,
     "metadata": {},
     "output_type": "execute_result"
    },
    {
     "data": {
      "image/png": "[encoded data removed]",
      "text/plain": [
       "<Figure size 500x500 with 2 Axes>"
      ]
     },
     "metadata": {},
     "output_type": "display_data"
    }
   ],
   "source": [
    "#Visual Confusion Matrix\n",
    "from sklearn.metrics import confusion_matrix\n",
    "cm = confusion_matrix(y_test, predictions)\n",
    "plt.figure(figsize=(5,5))\n",
    "sns.heatmap(data=cm,linewidths=.5, annot=True,  cmap = 'Blues')\n",
    "plt.ylabel('Actual label')\n",
    "plt.xlabel('Predicted label')\n",
    "all_sample_title = 'Accuracy Score for SciKit-Learn: {0}'.format(round(accuracy_score(y_test, predictions)*100 ,2))\n",
    "plt.title(all_sample_title, size = 15)"
   ]
  },
  {
   "cell_type": "code",
   "execution_count": 12,
   "id": "1e34c30e-a933-4444-a980-e114ade6944f",
   "metadata": {
    "jupyter": {
     "source_hidden": true
    }
   },
   "outputs": [
    {
     "name": "stdout",
     "output_type": "stream",
     "text": [
      "Sklearn Confusion Matrix:\n",
      "[[44296 15411]\n",
      " [12895 43600]]\n",
      "Sklearn Precision:  [0.77452746 0.7388453 ]\n",
      "Sklearn Recall:     [0.74188956 0.77174971]\n",
      "Sklearn F1 score:   [0.75785728 0.75493914]\n",
      "------------------------------------------ \n",
      "\n",
      "Sklearn Classification Report:\n",
      "               precision    recall  f1-score   support\n",
      "\n",
      "          -1       0.77      0.74      0.76     59707\n",
      "           1       0.74      0.77      0.75     56495\n",
      "\n",
      "    accuracy                           0.76    116202\n",
      "   macro avg       0.76      0.76      0.76    116202\n",
      "weighted avg       0.76      0.76      0.76    116202\n",
      "\n"
     ]
    }
   ],
   "source": [
    "#Print Confusion Matrix\n",
    "print(\"Sklearn Confusion Matrix:\")\n",
    "print(confusion_matrix(y_test, predictions))\n",
    "\n",
    "print(\"Sklearn Precision: \", precision_score(y_test, predictions, average=None))\n",
    "print(\"Sklearn Recall:    \", recall_score(y_test, predictions, average=None))\n",
    "print(\"Sklearn F1 score:  \", f1_score(y_test, predictions, average=None))\n",
    "print(\"------------------------------------------ \")\n",
    "\n",
    "SKLearn_Accu = round(accuracy_score(y_test, predictions)*100 ,2)\n",
    "SKLearn_Precision = precision_score(y_test, predictions, average=None)\n",
    "SKLearn_Recall = recall_score(y_test, predictions, average=None)\n",
    "SKLearn_F1 = f1_score(y_test, predictions, average=None)\n",
    "\n",
    "print(\"\\nSklearn Classification Report:\\n\",classification_report(y_test, predictions))"
   ]
  },
  {
   "cell_type": "code",
   "execution_count": 13,
   "id": "269f3388-e2c0-468b-a207-f7b82729c19e",
   "metadata": {
    "jupyter": {
     "source_hidden": true
    },
    "scrolled": true
   },
   "outputs": [
    {
     "data": {
      "text/html": [
       "<div>\n",
       "<style scoped>\n",
       "    .dataframe tbody tr th:only-of-type {\n",
       "        vertical-align: middle;\n",
       "    }\n",
       "\n",
       "    .dataframe tbody tr th {\n",
       "        vertical-align: top;\n",
       "    }\n",
       "\n",
       "    .dataframe thead th {\n",
       "        text-align: right;\n",
       "    }\n",
       "</style>\n",
       "<table border=\"1\" class=\"dataframe\">\n",
       "  <thead>\n",
       "    <tr style=\"text-align: right;\">\n",
       "      <th></th>\n",
       "      <th>Accuracy</th>\n",
       "      <th>F1 Score</th>\n",
       "      <th>Train Time (s)</th>\n",
       "    </tr>\n",
       "  </thead>\n",
       "  <tbody>\n",
       "    <tr>\n",
       "      <th>SAS Viya ML</th>\n",
       "      <td>76.32</td>\n",
       "      <td>76.2437617641472 %</td>\n",
       "      <td>11.8 s ± 0 ns per loop (mean ± std. dev. of 1 ...</td>\n",
       "    </tr>\n",
       "    <tr>\n",
       "      <th>Scikit-Learn</th>\n",
       "      <td>75.64</td>\n",
       "      <td>75.49391373608297 %</td>\n",
       "      <td>12.6 s ± 0 ns per loop (mean ± std. dev. of 1 ...</td>\n",
       "    </tr>\n",
       "  </tbody>\n",
       "</table>\n",
       "</div>"
      ],
      "text/plain": [
       "               Accuracy              F1 Score  \\\n",
       "SAS Viya ML        76.32   76.2437617641472 %   \n",
       "Scikit-Learn       75.64  75.49391373608297 %   \n",
       "\n",
       "                                                  Train Time (s)  \n",
       "SAS Viya ML    11.8 s ± 0 ns per loop (mean ± std. dev. of 1 ...  \n",
       "Scikit-Learn   12.6 s ± 0 ns per loop (mean ± std. dev. of 1 ...  "
      ]
     },
     "execution_count": 13,
     "metadata": {},
     "output_type": "execute_result"
    }
   ],
   "source": [
    "#Model Comparison\n",
    "model_comparison = pd.DataFrame(\n",
    "    {'Accuracy ':[WB_Accu, SKLearn_Accu],\n",
    "    'F1 Score': [((WB_F1[1]* 100).astype(str) + \" %\"), ((SKLearn_F1[1]* 100).astype(str) + \" %\")],\n",
    "    'Train Time (s)': [SASViyaML_Train_Time, SKLearn_Train_Time]},\n",
    "    [\"SAS Viya ML \", \"Scikit-Learn \"]\n",
    ")\n",
    "\n",
    "model_comparison"
   ]
  },
  {
   "cell_type": "code",
   "execution_count": null,
   "id": "c4686d87-4cf7-4bcd-b71e-382cc536e7e3",
   "metadata": {},
   "outputs": [],
   "source": []
  }
 ],
 "metadata": {
  "kernelspec": {
   "display_name": "Workbench Python",
   "language": "python",
   "name": "workbench_python"
  },
  "language_info": {
   "codemirror_mode": {
    "name": "ipython",
    "version": 3
   },
   "file_extension": ".py",
   "mimetype": "text/x-python",
   "name": "python",
   "nbconvert_exporter": "python",
   "pygments_lexer": "ipython3",
   "version": "3.11.9"
  }
 },
 "nbformat": 4,
 "nbformat_minor": 5
}
