{
 "cells": [
  {
   "cell_type": "markdown",
   "id": "39e16cbb-4184-493d-a27f-87596c04a002",
   "metadata": {},
   "source": [
    "# Parkinson's Disease Classification – (SAS Viya ML vs SciKit-Learn)\n",
    "-------\n",
    "This notebook highlights the performance of the SAS Viya ML Linear Support Vector Classification algorithm available on Workbench using scikit-learn as a comparison.  \n",
    "\n",
    "A synthetic dataset with approximately **two million** rows that focuses on Parkinson's Disease Classification. It contains various features related to patient health conditions and outcomes. The objective of this use case is to predict a patient's classification based on patient's clinical characteristics and other markers. The target variable is a binary outcome variable.\n",
    "\n",
    "Original Dataset: \n"
   ]
  },
  {
   "cell_type": "code",
   "execution_count": 1,
   "id": "5786250f-4785-4bda-bee0-4e7e0e156dc8",
   "metadata": {
    "jupyter": {
     "source_hidden": true
    }
   },
   "outputs": [],
   "source": [
    "#Import required libraries and packages\n",
    "import time\n",
    "import pandas as pd \n",
    "import numpy  as np\n",
    "import seaborn as sns\n",
    "from sasviya.ml.svm import SVC\n",
    "from sklearn.svm import LinearSVC\n",
    "from sklearn.preprocessing import StandardScaler\n",
    "from sklearn.metrics import confusion_matrix, classification_report, accuracy_score, precision_score, recall_score, f1_score\n",
    "import matplotlib.pyplot as plt"
   ]
  },
  {
   "cell_type": "markdown",
   "id": "aa71a888-3174-4260-a113-74fba11f81fb",
   "metadata": {},
   "source": [
    "#### Data Preparation"
   ]
  },
  {
   "cell_type": "code",
   "execution_count": 2,
   "id": "ca31fb81-7681-475d-93a3-78f661c63337",
   "metadata": {},
   "outputs": [],
   "source": [
    "dataset = 'parkinson'\n",
    "train = pd.read_csv(f'{dataset}_train.csv', header=None)\n",
    "test  = pd.read_csv(f'{dataset}_test.csv',  header=None)\n",
    "nObs, nCol = train.shape\n",
    "nFtr = nCol - 1\n",
    "\n",
    "scaler = StandardScaler()\n",
    "features = list(range(nFtr))\n",
    "X_train = scaler.fit_transform(train[features])\n",
    "X_test  = scaler.transform(test[features])\n",
    "\n",
    "target  = nFtr \n",
    "y_train = train[target]\n",
    "y_test  = test[target]"
   ]
  },
  {
   "cell_type": "code",
   "execution_count": 3,
   "id": "a13492b1-028f-4135-8dfe-ffb62a21b809",
   "metadata": {
    "jupyter": {
     "source_hidden": true
    },
    "scrolled": true
   },
   "outputs": [
    {
     "data": {
      "text/html": [
       "<div>\n",
       "<style scoped>\n",
       "    .dataframe tbody tr th:only-of-type {\n",
       "        vertical-align: middle;\n",
       "    }\n",
       "\n",
       "    .dataframe tbody tr th {\n",
       "        vertical-align: top;\n",
       "    }\n",
       "\n",
       "    .dataframe thead th {\n",
       "        text-align: right;\n",
       "    }\n",
       "</style>\n",
       "<table border=\"1\" class=\"dataframe\">\n",
       "  <thead>\n",
       "    <tr style=\"text-align: right;\">\n",
       "      <th></th>\n",
       "      <th>0</th>\n",
       "      <th>1</th>\n",
       "      <th>2</th>\n",
       "      <th>3</th>\n",
       "      <th>4</th>\n",
       "      <th>5</th>\n",
       "      <th>6</th>\n",
       "      <th>7</th>\n",
       "      <th>8</th>\n",
       "      <th>9</th>\n",
       "      <th>...</th>\n",
       "      <th>13</th>\n",
       "      <th>14</th>\n",
       "      <th>15</th>\n",
       "      <th>16</th>\n",
       "      <th>17</th>\n",
       "      <th>18</th>\n",
       "      <th>19</th>\n",
       "      <th>20</th>\n",
       "      <th>21</th>\n",
       "      <th>22</th>\n",
       "    </tr>\n",
       "  </thead>\n",
       "  <tbody>\n",
       "    <tr>\n",
       "      <th>0</th>\n",
       "      <td>-1413.4164</td>\n",
       "      <td>0.51179</td>\n",
       "      <td>0.009801</td>\n",
       "      <td>-1987.8270</td>\n",
       "      <td>-1911.9907</td>\n",
       "      <td>-0.66462</td>\n",
       "      <td>7.2891</td>\n",
       "      <td>0.027843</td>\n",
       "      <td>0.000670</td>\n",
       "      <td>1.982500e-03</td>\n",
       "      <td>...</td>\n",
       "      <td>0.043573</td>\n",
       "      <td>1.5800</td>\n",
       "      <td>1</td>\n",
       "      <td>1.5563</td>\n",
       "      <td>0.070818</td>\n",
       "      <td>-2.574100e-04</td>\n",
       "      <td>-138.9617</td>\n",
       "      <td>-120105.9180</td>\n",
       "      <td>0.62079</td>\n",
       "      <td>1</td>\n",
       "    </tr>\n",
       "    <tr>\n",
       "      <th>1</th>\n",
       "      <td>-1866.0460</td>\n",
       "      <td>0.65426</td>\n",
       "      <td>0.015409</td>\n",
       "      <td>-4066.5632</td>\n",
       "      <td>-1971.5943</td>\n",
       "      <td>0.20683</td>\n",
       "      <td>9.3110</td>\n",
       "      <td>0.039787</td>\n",
       "      <td>0.005252</td>\n",
       "      <td>8.568200e-03</td>\n",
       "      <td>...</td>\n",
       "      <td>0.010868</td>\n",
       "      <td>3.9272</td>\n",
       "      <td>0</td>\n",
       "      <td>2.0153</td>\n",
       "      <td>0.293840</td>\n",
       "      <td>1.856100e-04</td>\n",
       "      <td>-80.5602</td>\n",
       "      <td>-122866.3412</td>\n",
       "      <td>0.69168</td>\n",
       "      <td>0</td>\n",
       "    </tr>\n",
       "    <tr>\n",
       "      <th>2</th>\n",
       "      <td>-7737.0635</td>\n",
       "      <td>0.69229</td>\n",
       "      <td>0.015683</td>\n",
       "      <td>-8301.6796</td>\n",
       "      <td>-3409.3172</td>\n",
       "      <td>-0.28259</td>\n",
       "      <td>2.8404</td>\n",
       "      <td>0.036214</td>\n",
       "      <td>0.000539</td>\n",
       "      <td>1.960000e-05</td>\n",
       "      <td>...</td>\n",
       "      <td>0.028655</td>\n",
       "      <td>2.8889</td>\n",
       "      <td>0</td>\n",
       "      <td>1.8654</td>\n",
       "      <td>0.011663</td>\n",
       "      <td>-1.190600e-03</td>\n",
       "      <td>-98.7381</td>\n",
       "      <td>-200024.8760</td>\n",
       "      <td>0.69603</td>\n",
       "      <td>1</td>\n",
       "    </tr>\n",
       "    <tr>\n",
       "      <th>3</th>\n",
       "      <td>-4440.2590</td>\n",
       "      <td>0.38960</td>\n",
       "      <td>0.009565</td>\n",
       "      <td>-9555.9738</td>\n",
       "      <td>-2163.2826</td>\n",
       "      <td>0.65281</td>\n",
       "      <td>5.9896</td>\n",
       "      <td>0.021014</td>\n",
       "      <td>0.000955</td>\n",
       "      <td>1.203400e-03</td>\n",
       "      <td>...</td>\n",
       "      <td>0.044369</td>\n",
       "      <td>15.9292</td>\n",
       "      <td>0</td>\n",
       "      <td>1.5798</td>\n",
       "      <td>0.095090</td>\n",
       "      <td>7.680000e-05</td>\n",
       "      <td>-117.0085</td>\n",
       "      <td>-117446.9627</td>\n",
       "      <td>0.66248</td>\n",
       "      <td>1</td>\n",
       "    </tr>\n",
       "    <tr>\n",
       "      <th>4</th>\n",
       "      <td>-3376.7472</td>\n",
       "      <td>0.33689</td>\n",
       "      <td>0.009121</td>\n",
       "      <td>-2790.0719</td>\n",
       "      <td>-3165.1109</td>\n",
       "      <td>3.37730</td>\n",
       "      <td>59.8191</td>\n",
       "      <td>0.020421</td>\n",
       "      <td>0.000161</td>\n",
       "      <td>4.530000e-05</td>\n",
       "      <td>...</td>\n",
       "      <td>0.011125</td>\n",
       "      <td>1.6259</td>\n",
       "      <td>1</td>\n",
       "      <td>1.6006</td>\n",
       "      <td>0.041836</td>\n",
       "      <td>8.200000e-19</td>\n",
       "      <td>-289.0506</td>\n",
       "      <td>-196484.7656</td>\n",
       "      <td>0.71171</td>\n",
       "      <td>1</td>\n",
       "    </tr>\n",
       "    <tr>\n",
       "      <th>...</th>\n",
       "      <td>...</td>\n",
       "      <td>...</td>\n",
       "      <td>...</td>\n",
       "      <td>...</td>\n",
       "      <td>...</td>\n",
       "      <td>...</td>\n",
       "      <td>...</td>\n",
       "      <td>...</td>\n",
       "      <td>...</td>\n",
       "      <td>...</td>\n",
       "      <td>...</td>\n",
       "      <td>...</td>\n",
       "      <td>...</td>\n",
       "      <td>...</td>\n",
       "      <td>...</td>\n",
       "      <td>...</td>\n",
       "      <td>...</td>\n",
       "      <td>...</td>\n",
       "      <td>...</td>\n",
       "      <td>...</td>\n",
       "      <td>...</td>\n",
       "    </tr>\n",
       "    <tr>\n",
       "      <th>2166779</th>\n",
       "      <td>-5928.2745</td>\n",
       "      <td>0.55702</td>\n",
       "      <td>0.009900</td>\n",
       "      <td>-3494.0071</td>\n",
       "      <td>-3332.0246</td>\n",
       "      <td>2.90950</td>\n",
       "      <td>64.0153</td>\n",
       "      <td>0.027241</td>\n",
       "      <td>0.000602</td>\n",
       "      <td>2.100000e-05</td>\n",
       "      <td>...</td>\n",
       "      <td>0.004885</td>\n",
       "      <td>1.5516</td>\n",
       "      <td>1</td>\n",
       "      <td>1.6365</td>\n",
       "      <td>0.027656</td>\n",
       "      <td>1.250000e-16</td>\n",
       "      <td>-260.3668</td>\n",
       "      <td>-215940.6442</td>\n",
       "      <td>0.80000</td>\n",
       "      <td>1</td>\n",
       "    </tr>\n",
       "    <tr>\n",
       "      <th>2166780</th>\n",
       "      <td>-10091.6164</td>\n",
       "      <td>0.64984</td>\n",
       "      <td>0.028294</td>\n",
       "      <td>-9680.0307</td>\n",
       "      <td>-4250.3538</td>\n",
       "      <td>2.95060</td>\n",
       "      <td>4.4440</td>\n",
       "      <td>0.079312</td>\n",
       "      <td>0.000110</td>\n",
       "      <td>7.330000e-07</td>\n",
       "      <td>...</td>\n",
       "      <td>0.001243</td>\n",
       "      <td>8.3681</td>\n",
       "      <td>1</td>\n",
       "      <td>4.8099</td>\n",
       "      <td>0.002363</td>\n",
       "      <td>-1.660000e-17</td>\n",
       "      <td>-198.5625</td>\n",
       "      <td>-254823.0514</td>\n",
       "      <td>0.70072</td>\n",
       "      <td>1</td>\n",
       "    </tr>\n",
       "    <tr>\n",
       "      <th>2166781</th>\n",
       "      <td>-11969.4857</td>\n",
       "      <td>0.62656</td>\n",
       "      <td>0.027489</td>\n",
       "      <td>-10088.2522</td>\n",
       "      <td>-3343.2606</td>\n",
       "      <td>2.04980</td>\n",
       "      <td>39.4761</td>\n",
       "      <td>0.079804</td>\n",
       "      <td>0.001629</td>\n",
       "      <td>2.627000e-04</td>\n",
       "      <td>...</td>\n",
       "      <td>0.007449</td>\n",
       "      <td>3.4977</td>\n",
       "      <td>0</td>\n",
       "      <td>4.8125</td>\n",
       "      <td>0.027115</td>\n",
       "      <td>-7.400000e-17</td>\n",
       "      <td>-108.6955</td>\n",
       "      <td>-166296.4302</td>\n",
       "      <td>0.80616</td>\n",
       "      <td>1</td>\n",
       "    </tr>\n",
       "    <tr>\n",
       "      <th>2166782</th>\n",
       "      <td>-2060.9471</td>\n",
       "      <td>0.50447</td>\n",
       "      <td>0.008344</td>\n",
       "      <td>-2711.6304</td>\n",
       "      <td>-2201.4183</td>\n",
       "      <td>-1.37810</td>\n",
       "      <td>4.4165</td>\n",
       "      <td>0.020956</td>\n",
       "      <td>0.000611</td>\n",
       "      <td>1.414800e-03</td>\n",
       "      <td>...</td>\n",
       "      <td>0.063305</td>\n",
       "      <td>1.6118</td>\n",
       "      <td>1</td>\n",
       "      <td>1.6012</td>\n",
       "      <td>0.056175</td>\n",
       "      <td>-1.119700e-03</td>\n",
       "      <td>-160.9059</td>\n",
       "      <td>-125357.3699</td>\n",
       "      <td>0.61766</td>\n",
       "      <td>1</td>\n",
       "    </tr>\n",
       "    <tr>\n",
       "      <th>2166783</th>\n",
       "      <td>-5296.4645</td>\n",
       "      <td>0.65037</td>\n",
       "      <td>0.023219</td>\n",
       "      <td>-6700.1967</td>\n",
       "      <td>-2918.8021</td>\n",
       "      <td>-1.23450</td>\n",
       "      <td>7.0538</td>\n",
       "      <td>0.057211</td>\n",
       "      <td>0.000420</td>\n",
       "      <td>1.821400e-03</td>\n",
       "      <td>...</td>\n",
       "      <td>0.015589</td>\n",
       "      <td>1.9354</td>\n",
       "      <td>0</td>\n",
       "      <td>1.9750</td>\n",
       "      <td>0.061367</td>\n",
       "      <td>6.784800e-04</td>\n",
       "      <td>-167.5348</td>\n",
       "      <td>-117229.2741</td>\n",
       "      <td>0.57600</td>\n",
       "      <td>1</td>\n",
       "    </tr>\n",
       "  </tbody>\n",
       "</table>\n",
       "<p>2166784 rows × 23 columns</p>\n",
       "</div>"
      ],
      "text/plain": [
       "                 0        1         2           3          4        5   \\\n",
       "0        -1413.4164  0.51179  0.009801  -1987.8270 -1911.9907 -0.66462   \n",
       "1        -1866.0460  0.65426  0.015409  -4066.5632 -1971.5943  0.20683   \n",
       "2        -7737.0635  0.69229  0.015683  -8301.6796 -3409.3172 -0.28259   \n",
       "3        -4440.2590  0.38960  0.009565  -9555.9738 -2163.2826  0.65281   \n",
       "4        -3376.7472  0.33689  0.009121  -2790.0719 -3165.1109  3.37730   \n",
       "...             ...      ...       ...         ...        ...      ...   \n",
       "2166779  -5928.2745  0.55702  0.009900  -3494.0071 -3332.0246  2.90950   \n",
       "2166780 -10091.6164  0.64984  0.028294  -9680.0307 -4250.3538  2.95060   \n",
       "2166781 -11969.4857  0.62656  0.027489 -10088.2522 -3343.2606  2.04980   \n",
       "2166782  -2060.9471  0.50447  0.008344  -2711.6304 -2201.4183 -1.37810   \n",
       "2166783  -5296.4645  0.65037  0.023219  -6700.1967 -2918.8021 -1.23450   \n",
       "\n",
       "              6         7         8             9   ...        13       14  \\\n",
       "0         7.2891  0.027843  0.000670  1.982500e-03  ...  0.043573   1.5800   \n",
       "1         9.3110  0.039787  0.005252  8.568200e-03  ...  0.010868   3.9272   \n",
       "2         2.8404  0.036214  0.000539  1.960000e-05  ...  0.028655   2.8889   \n",
       "3         5.9896  0.021014  0.000955  1.203400e-03  ...  0.044369  15.9292   \n",
       "4        59.8191  0.020421  0.000161  4.530000e-05  ...  0.011125   1.6259   \n",
       "...          ...       ...       ...           ...  ...       ...      ...   \n",
       "2166779  64.0153  0.027241  0.000602  2.100000e-05  ...  0.004885   1.5516   \n",
       "2166780   4.4440  0.079312  0.000110  7.330000e-07  ...  0.001243   8.3681   \n",
       "2166781  39.4761  0.079804  0.001629  2.627000e-04  ...  0.007449   3.4977   \n",
       "2166782   4.4165  0.020956  0.000611  1.414800e-03  ...  0.063305   1.6118   \n",
       "2166783   7.0538  0.057211  0.000420  1.821400e-03  ...  0.015589   1.9354   \n",
       "\n",
       "         15      16        17            18        19           20       21  \\\n",
       "0         1  1.5563  0.070818 -2.574100e-04 -138.9617 -120105.9180  0.62079   \n",
       "1         0  2.0153  0.293840  1.856100e-04  -80.5602 -122866.3412  0.69168   \n",
       "2         0  1.8654  0.011663 -1.190600e-03  -98.7381 -200024.8760  0.69603   \n",
       "3         0  1.5798  0.095090  7.680000e-05 -117.0085 -117446.9627  0.66248   \n",
       "4         1  1.6006  0.041836  8.200000e-19 -289.0506 -196484.7656  0.71171   \n",
       "...      ..     ...       ...           ...       ...          ...      ...   \n",
       "2166779   1  1.6365  0.027656  1.250000e-16 -260.3668 -215940.6442  0.80000   \n",
       "2166780   1  4.8099  0.002363 -1.660000e-17 -198.5625 -254823.0514  0.70072   \n",
       "2166781   0  4.8125  0.027115 -7.400000e-17 -108.6955 -166296.4302  0.80616   \n",
       "2166782   1  1.6012  0.056175 -1.119700e-03 -160.9059 -125357.3699  0.61766   \n",
       "2166783   0  1.9750  0.061367  6.784800e-04 -167.5348 -117229.2741  0.57600   \n",
       "\n",
       "         22  \n",
       "0         1  \n",
       "1         0  \n",
       "2         1  \n",
       "3         1  \n",
       "4         1  \n",
       "...      ..  \n",
       "2166779   1  \n",
       "2166780   1  \n",
       "2166781   1  \n",
       "2166782   1  \n",
       "2166783   1  \n",
       "\n",
       "[2166784 rows x 23 columns]"
      ]
     },
     "execution_count": 3,
     "metadata": {},
     "output_type": "execute_result"
    }
   ],
   "source": [
    "#Explore data\n",
    "train"
   ]
  },
  {
   "cell_type": "code",
   "execution_count": 4,
   "id": "da601765-b654-4752-bfeb-367d3e7377dc",
   "metadata": {
    "jupyter": {
     "source_hidden": true
    }
   },
   "outputs": [
    {
     "data": {
      "text/plain": [
       "<Axes: >"
      ]
     },
     "execution_count": 4,
     "metadata": {},
     "output_type": "execute_result"
    },
    {
     "data": {
      "image/png": "[encoded data removed]",
      "text/plain": [
       "<Figure size 700x500 with 2 Axes>"
      ]
     },
     "metadata": {},
     "output_type": "display_data"
    }
   ],
   "source": [
    "# Display heatmap\n",
    "plt.figure(figsize=(7,5))\n",
    "sns.heatmap(train.corr(), fmt='.2g', annot=True)"
   ]
  },
  {
   "cell_type": "markdown",
   "id": "08e41321-952d-44b5-96b8-d0058c3dca56",
   "metadata": {},
   "source": [
    "##  Model Training  \n",
    "\n",
    "<body>Linear Support Vector Classification (Linear SVC) is a supervised machine learning algorithm used for binary classification tasks.</body>\n",
    "<hr width=\"100%\" size=\"2\">\n",
    "\n",
    "\n",
    "#### **SAS Viya** – Linear Support Vector Classification (Linear SVC)\n",
    "\n",
    "\n"
   ]
  },
  {
   "cell_type": "code",
   "execution_count": 5,
   "id": "36f185c0-f4b3-4029-894f-9f466388c79a",
   "metadata": {},
   "outputs": [
    {
     "name": "stdout",
     "output_type": "stream",
     "text": [
      "20.7 s ± 0 ns per loop (mean ± std. dev. of 1 run, 1 loop each)\n"
     ]
    }
   ],
   "source": [
    "def SASViyaML_Train():\n",
    "    sas_model = SVC(kernel='linear', max_iter=1000, tol=0.0001, random_state=1)\n",
    "    sas_model.fit(X_train, y_train)\n",
    "    return (sas_model)\n",
    "sas_model = SASViyaML_Train()\n",
    "SASViyaML_Train_Time = %timeit -r 1 -o SASViyaML_Train()"
   ]
  },
  {
   "cell_type": "code",
   "execution_count": 6,
   "id": "f9fa6fc0-8ca6-4513-88ce-e00438a6d155",
   "metadata": {},
   "outputs": [
    {
     "name": "stdout",
     "output_type": "stream",
     "text": [
      "Accuracy Score : 81.42 %\n",
      "880 ms ± 0 ns per loop (mean ± std. dev. of 1 run, 1 loop each)\n"
     ]
    }
   ],
   "source": [
    "def SASViyaML_Test():\n",
    "    predictions = sas_model.predict(X_test)\n",
    "    return (predictions)\n",
    "predictions = SASViyaML_Test()\n",
    "print(\"Accuracy Score :\", round(accuracy_score(y_test, predictions)*100 ,2), \"%\")\n",
    "SASViyaML_Test_Time = %timeit -r 1 -o SASViyaML_Test()"
   ]
  },
  {
   "cell_type": "code",
   "execution_count": 7,
   "id": "4e312209-192e-458e-9f21-7ba869ccf093",
   "metadata": {
    "jupyter": {
     "source_hidden": true
    }
   },
   "outputs": [
    {
     "data": {
      "text/plain": [
       "Text(0.5, 1.0, 'Accuracy Score for SAS Viya ML: 81.42')"
      ]
     },
     "execution_count": 7,
     "metadata": {},
     "output_type": "execute_result"
    },
    {
     "data": {
      "image/png": "[encoded data removed]",
      "text/plain": [
       "<Figure size 500x500 with 2 Axes>"
      ]
     },
     "metadata": {},
     "output_type": "display_data"
    }
   ],
   "source": [
    "#Visual Confusion Matrix\n",
    "from sklearn.metrics import confusion_matrix\n",
    "cm = confusion_matrix(y_test, predictions)\n",
    "plt.figure(figsize=(5,5))\n",
    "sns.heatmap(data=cm,linewidths=.5, annot=True,  cmap = 'Blues')\n",
    "plt.ylabel('Actual label')\n",
    "plt.xlabel('Predicted label')\n",
    "all_sample_title = 'Accuracy Score for SAS Viya ML: {0}'.format(round(accuracy_score(y_test, predictions)*100 ,2))\n",
    "plt.title(all_sample_title, size = 15)"
   ]
  },
  {
   "cell_type": "code",
   "execution_count": 8,
   "id": "5d6bad2d-a5bf-462b-ad62-6f209a1816d8",
   "metadata": {
    "jupyter": {
     "source_hidden": true
    },
    "scrolled": true
   },
   "outputs": [
    {
     "name": "stdout",
     "output_type": "stream",
     "text": [
      "SAS WB Confusion Matrix:\n",
      "[[ 57344  61440]\n",
      " [ 24576 319488]]\n",
      "SAS WB Precision:  [0.7        0.83870968]\n",
      "SAS WB Recall:     [0.48275862 0.92857143]\n",
      "SAS WB F1 score:   [0.57142857 0.88135593]\n",
      "-------------------------------- \n",
      "\n",
      "SAS WB Classification Report:\n",
      "               precision    recall  f1-score   support\n",
      "\n",
      "           0       0.70      0.48      0.57    118784\n",
      "           1       0.84      0.93      0.88    344064\n",
      "\n",
      "    accuracy                           0.81    462848\n",
      "   macro avg       0.77      0.71      0.73    462848\n",
      "weighted avg       0.80      0.81      0.80    462848\n",
      "\n"
     ]
    }
   ],
   "source": [
    "#Print Confusion Matrix\n",
    "print(\"SAS WB Confusion Matrix:\")\n",
    "print(confusion_matrix(y_test, predictions))\n",
    "\n",
    "print(\"SAS WB Precision: \", precision_score(y_test, predictions, average=None))\n",
    "print(\"SAS WB Recall:    \", recall_score(y_test, predictions, average=None))\n",
    "print(\"SAS WB F1 score:  \", f1_score(y_test, predictions, average=None))\n",
    "print(\"-------------------------------- \")\n",
    "\n",
    "WB_Precision = precision_score(y_test, predictions, average=None)\n",
    "WB_Recall = recall_score(y_test, predictions, average=None)\n",
    "WB_F1 = f1_score(y_test, predictions, average=None)\n",
    "\n",
    "print(\"\\nSAS WB Classification Report:\\n\",classification_report(y_test, predictions))"
   ]
  },
  {
   "cell_type": "markdown",
   "id": "1c3aad99-afe7-483a-9c66-9f2d4afdfe34",
   "metadata": {},
   "source": [
    "<br><br>\n",
    "\n",
    "#### **SciKit-Learn** – Linear Support Vector Classification (Linear SVC)"
   ]
  },
  {
   "cell_type": "code",
   "execution_count": 9,
   "id": "2bcf52b4-a905-4606-a4ac-c396d0ad0c8d",
   "metadata": {},
   "outputs": [
    {
     "name": "stdout",
     "output_type": "stream",
     "text": [
      "19 s ± 0 ns per loop (mean ± std. dev. of 1 run, 1 loop each)\n"
     ]
    }
   ],
   "source": [
    "def SKLearn_Train():\n",
    "    skl_model = LinearSVC(max_iter=1000, tol=0.0001, random_state=1)\n",
    "    skl_model.fit(X_train, y_train)\n",
    "    return (skl_model)\n",
    "skl_model = SKLearn_Train()\n",
    "SKLearn_Train_Time = %timeit -r 1 -o SKLearn_Train()"
   ]
  },
  {
   "cell_type": "code",
   "execution_count": 10,
   "id": "c8e0a57e-dcaa-48cc-8eaa-c3f9b703d0e2",
   "metadata": {},
   "outputs": [
    {
     "name": "stdout",
     "output_type": "stream",
     "text": [
      "Accuracy Score : 81.42 %\n",
      "100 ms ± 0 ns per loop (mean ± std. dev. of 1 run, 10 loops each)\n"
     ]
    }
   ],
   "source": [
    "def SKLearn_Test():\n",
    "    predictions = skl_model.predict(X_test)\n",
    "    return (predictions)\n",
    "predictions = SKLearn_Test()\n",
    "print(\"Accuracy Score :\", round(accuracy_score(y_test, predictions)*100 ,2), \"%\")\n",
    "\n",
    "SKLearn_Test_Time = %timeit -r 1 -o SKLearn_Test()"
   ]
  },
  {
   "cell_type": "code",
   "execution_count": 11,
   "id": "569dd9d5-7cb7-4bbc-afba-04560433b622",
   "metadata": {
    "jupyter": {
     "source_hidden": true
    }
   },
   "outputs": [
    {
     "data": {
      "text/plain": [
       "Text(0.5, 1.0, 'Accuracy Score for SciKit-Learn: 81.42')"
      ]
     },
     "execution_count": 11,
     "metadata": {},
     "output_type": "execute_result"
    },
    {
     "data": {
      "image/png": "[encoded data removed]",
      "text/plain": [
       "<Figure size 500x500 with 2 Axes>"
      ]
     },
     "metadata": {},
     "output_type": "display_data"
    }
   ],
   "source": [
    "#Visual Confusion Matrix\n",
    "from sklearn.metrics import confusion_matrix\n",
    "cm = confusion_matrix(y_test, predictions)\n",
    "plt.figure(figsize=(5,5))\n",
    "sns.heatmap(data=cm,linewidths=.5, annot=True,  cmap = 'Blues')\n",
    "plt.ylabel('Actual label')\n",
    "plt.xlabel('Predicted label')\n",
    "all_sample_title = 'Accuracy Score for SciKit-Learn: {0}'.format(round(accuracy_score(y_test, predictions)*100 ,2))\n",
    "plt.title(all_sample_title, size = 15)"
   ]
  },
  {
   "cell_type": "code",
   "execution_count": 12,
   "id": "1e34c30e-a933-4444-a980-e114ade6944f",
   "metadata": {
    "jupyter": {
     "source_hidden": true
    }
   },
   "outputs": [
    {
     "name": "stdout",
     "output_type": "stream",
     "text": [
      "Sklearn Confusion Matrix:\n",
      "[[ 61440  57344]\n",
      " [ 28672 315392]]\n",
      "Sklearn Precision:  [0.68181818 0.84615385]\n",
      "Sklearn Recall:     [0.51724138 0.91666667]\n",
      "Sklearn F1 score:   [0.58823529 0.88      ]\n",
      "------------------------------------------ \n",
      "\n",
      "Sklearn Classification Report:\n",
      "               precision    recall  f1-score   support\n",
      "\n",
      "           0       0.68      0.52      0.59    118784\n",
      "           1       0.85      0.92      0.88    344064\n",
      "\n",
      "    accuracy                           0.81    462848\n",
      "   macro avg       0.76      0.72      0.73    462848\n",
      "weighted avg       0.80      0.81      0.81    462848\n",
      "\n"
     ]
    }
   ],
   "source": [
    "#Print Confusion Matrix\n",
    "print(\"Sklearn Confusion Matrix:\")\n",
    "print(confusion_matrix(y_test, predictions))\n",
    "\n",
    "print(\"Sklearn Precision: \", precision_score(y_test, predictions, average=None))\n",
    "print(\"Sklearn Recall:    \", recall_score(y_test, predictions, average=None))\n",
    "print(\"Sklearn F1 score:  \", f1_score(y_test, predictions, average=None))\n",
    "print(\"------------------------------------------ \")\n",
    "\n",
    "SKLearn_Precision = precision_score(y_test, predictions, average=None)\n",
    "SKLearn_Recall = recall_score(y_test, predictions, average=None)\n",
    "SKLearn_F1 = f1_score(y_test, predictions, average=None)\n",
    "\n",
    "print(\"\\nSklearn Classification Report:\\n\",classification_report(y_test, predictions))"
   ]
  },
  {
   "cell_type": "code",
   "execution_count": 13,
   "id": "269f3388-e2c0-468b-a207-f7b82729c19e",
   "metadata": {
    "jupyter": {
     "source_hidden": true
    },
    "scrolled": true
   },
   "outputs": [
    {
     "data": {
      "text/html": [
       "<div>\n",
       "<style scoped>\n",
       "    .dataframe tbody tr th:only-of-type {\n",
       "        vertical-align: middle;\n",
       "    }\n",
       "\n",
       "    .dataframe tbody tr th {\n",
       "        vertical-align: top;\n",
       "    }\n",
       "\n",
       "    .dataframe thead th {\n",
       "        text-align: right;\n",
       "    }\n",
       "</style>\n",
       "<table border=\"1\" class=\"dataframe\">\n",
       "  <thead>\n",
       "    <tr style=\"text-align: right;\">\n",
       "      <th></th>\n",
       "      <th>Accuracy</th>\n",
       "      <th>F1 Score</th>\n",
       "      <th>Train Time (s)</th>\n",
       "    </tr>\n",
       "  </thead>\n",
       "  <tbody>\n",
       "    <tr>\n",
       "      <th>SAS Viya ML</th>\n",
       "      <td>81.42%</td>\n",
       "      <td>88.0 %</td>\n",
       "      <td>20.7 s ± 0 ns per loop (mean ± std. dev. of 1 ...</td>\n",
       "    </tr>\n",
       "    <tr>\n",
       "      <th>Scikit-Learn</th>\n",
       "      <td>81.42%</td>\n",
       "      <td>88.0 %</td>\n",
       "      <td>19 s ± 0 ns per loop (mean ± std. dev. of 1 ru...</td>\n",
       "    </tr>\n",
       "  </tbody>\n",
       "</table>\n",
       "</div>"
      ],
      "text/plain": [
       "              Accuracy  F1 Score  \\\n",
       "SAS Viya ML      81.42%   88.0 %   \n",
       "Scikit-Learn     81.42%   88.0 %   \n",
       "\n",
       "                                                  Train Time (s)  \n",
       "SAS Viya ML    20.7 s ± 0 ns per loop (mean ± std. dev. of 1 ...  \n",
       "Scikit-Learn   19 s ± 0 ns per loop (mean ± std. dev. of 1 ru...  "
      ]
     },
     "execution_count": 13,
     "metadata": {},
     "output_type": "execute_result"
    }
   ],
   "source": [
    "#Model Comparison\n",
    "model_comparison = pd.DataFrame(\n",
    "    {'Accuracy ': [format(accuracy_score(y_test, predictions),'.2%'), format(accuracy_score(y_test, predictions),'.2%')],\n",
    "    'F1 Score': [((SKLearn_F1[1]* 100).astype(str) + \" %\"), ((SKLearn_F1[1]* 100).astype(str) + \" %\")],\n",
    "    'Train Time (s)': [SASViyaML_Train_Time, SKLearn_Train_Time]},\n",
    "    [\"SAS Viya ML \", \"Scikit-Learn \"]\n",
    ")\n",
    "\n",
    "model_comparison"
   ]
  }
 ],
 "metadata": {
  "kernelspec": {
   "display_name": "Workbench Python",
   "language": "python",
   "name": "workbench_python"
  },
  "language_info": {
   "codemirror_mode": {
    "name": "ipython",
    "version": 3
   },
   "file_extension": ".py",
   "mimetype": "text/x-python",
   "name": "python",
   "nbconvert_exporter": "python",
   "pygments_lexer": "ipython3",
   "version": "3.11.9"
  }
 },
 "nbformat": 4,
 "nbformat_minor": 5
}
